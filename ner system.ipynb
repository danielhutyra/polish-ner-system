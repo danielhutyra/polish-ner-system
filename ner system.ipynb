{
 "cells": [
  {
   "cell_type": "code",
   "execution_count": 1,
   "metadata": {
    "id": "5gEUqyX-57bY"
   },
   "outputs": [],
   "source": [
    "%matplotlib inline\n",
    "import matplotlib.pyplot as plt\n",
    "plt.style.use('ggplot')"
   ]
  },
  {
   "cell_type": "code",
   "execution_count": 2,
   "metadata": {
    "colab": {
     "base_uri": "https://localhost:8080/"
    },
    "id": "ygJ8d4Pt57bZ",
    "outputId": "b6a440d5-d042-41b0-8573-fb55706e0b4d"
   },
   "outputs": [
    {
     "name": "stdout",
     "output_type": "stream",
     "text": [
      "Collecting sklearn-crfsuite\n",
      "  Downloading https://files.pythonhosted.org/packages/25/74/5b7befa513482e6dee1f3dd68171a6c9dfc14c0eaa00f885ffeba54fe9b0/sklearn_crfsuite-0.3.6-py2.py3-none-any.whl\n",
      "Requirement already satisfied: six in /usr/local/lib/python3.6/dist-packages (from sklearn-crfsuite) (1.15.0)\n",
      "Requirement already satisfied: tqdm>=2.0 in /usr/local/lib/python3.6/dist-packages (from sklearn-crfsuite) (4.41.1)\n",
      "Requirement already satisfied: tabulate in /usr/local/lib/python3.6/dist-packages (from sklearn-crfsuite) (0.8.7)\n",
      "Collecting python-crfsuite>=0.8.3\n",
      "\u001b[?25l  Downloading https://files.pythonhosted.org/packages/95/99/869dde6dbf3e0d07a013c8eebfb0a3d30776334e0097f8432b631a9a3a19/python_crfsuite-0.9.7-cp36-cp36m-manylinux1_x86_64.whl (743kB)\n",
      "\u001b[K     |████████████████████████████████| 747kB 8.4MB/s \n",
      "\u001b[?25hInstalling collected packages: python-crfsuite, sklearn-crfsuite\n",
      "Successfully installed python-crfsuite-0.9.7 sklearn-crfsuite-0.3.6\n"
     ]
    }
   ],
   "source": [
    "!pip install sklearn-crfsuite"
   ]
  },
  {
   "cell_type": "code",
   "execution_count": 4,
   "metadata": {
    "id": "2hhJHjJA57bZ"
   },
   "outputs": [],
   "source": [
    "from itertools import chain\n",
    "\n",
    "import nltk\n",
    "import sklearn\n",
    "import scipy.stats\n",
    "from sklearn.metrics import make_scorer\n",
    "from sklearn.model_selection import cross_val_score\n",
    "from sklearn.model_selection import RandomizedSearchCV\n",
    "\n",
    "import sklearn_crfsuite\n",
    "from sklearn_crfsuite import scorers\n",
    "from sklearn_crfsuite import metrics"
   ]
  },
  {
   "cell_type": "markdown",
   "metadata": {
    "id": "VtEDkjGe57bZ"
   },
   "source": [
    "## Let's use CoNLL 2002 data to build a NER system\n",
    "\n",
    "CoNLL2002 corpus is available in NLTK. We use Spanish data."
   ]
  },
  {
   "cell_type": "code",
   "execution_count": 5,
   "metadata": {
    "colab": {
     "base_uri": "https://localhost:8080/"
    },
    "id": "svFtHlM357bZ",
    "outputId": "c12fe1a7-89f5-40a7-f7e0-c597489abe82"
   },
   "outputs": [
    {
     "name": "stdout",
     "output_type": "stream",
     "text": [
      "[nltk_data] Downloading package conll2002 to /root/nltk_data...\n",
      "[nltk_data]   Unzipping corpora/conll2002.zip.\n"
     ]
    },
    {
     "data": {
      "text/plain": [
       "['esp.testa', 'esp.testb', 'esp.train', 'ned.testa', 'ned.testb', 'ned.train']"
      ]
     },
     "execution_count": 5,
     "metadata": {
      "tags": []
     },
     "output_type": "execute_result"
    }
   ],
   "source": [
    "import nltk\n",
    "nltk.download('conll2002')\n",
    "nltk.corpus.conll2002.fileids()"
   ]
  },
  {
   "cell_type": "code",
   "execution_count": 6,
   "metadata": {
    "colab": {
     "base_uri": "https://localhost:8080/"
    },
    "id": "0ny195Sh57bZ",
    "outputId": "24b0be90-a300-4a6d-8d63-948b64cfbffb"
   },
   "outputs": [
    {
     "name": "stdout",
     "output_type": "stream",
     "text": [
      "CPU times: user 1.68 s, sys: 93.5 ms, total: 1.78 s\n",
      "Wall time: 1.78 s\n"
     ]
    }
   ],
   "source": [
    "%%time\n",
    "train_sents = list(nltk.corpus.conll2002.iob_sents('esp.train'))\n",
    "test_sents = list(nltk.corpus.conll2002.iob_sents('esp.testb'))"
   ]
  },
  {
   "cell_type": "code",
   "execution_count": 7,
   "metadata": {
    "colab": {
     "base_uri": "https://localhost:8080/"
    },
    "id": "e14GPlth57bZ",
    "outputId": "3970a325-f8e1-49d3-9873-0409379dfea7"
   },
   "outputs": [
    {
     "name": "stdout",
     "output_type": "stream",
     "text": [
      "wielkosć zbioru treningowego: 8323\n",
      "wielkosć zbioru testowego: 1517\n"
     ]
    },
    {
     "data": {
      "text/plain": [
       "[('Izquierda', 'NC', 'B-ORG'),\n",
       " ('Unida', 'AQ', 'I-ORG'),\n",
       " ('de', 'SP', 'I-ORG'),\n",
       " ('Santander', 'NC', 'I-ORG'),\n",
       " ('presentó', 'VMI', 'O'),\n",
       " ('hoy', 'RG', 'O'),\n",
       " ('su', 'DP', 'O'),\n",
       " ('nuevo', 'AQ', 'O'),\n",
       " ('boletín', 'NC', 'O'),\n",
       " ('trimestral', 'AQ', 'O'),\n",
       " ('\"', 'Fe', 'O'),\n",
       " ('Ciudad', 'NC', 'B-MISC'),\n",
       " ('\"', 'Fe', 'O'),\n",
       " (',', 'Fc', 'O'),\n",
       " ('una', 'DI', 'O'),\n",
       " ('publicación', 'NC', 'O'),\n",
       " ('de', 'SP', 'O'),\n",
       " ('la', 'DA', 'O'),\n",
       " ('que', 'PR', 'O'),\n",
       " ('se', 'P0', 'O'),\n",
       " ('distribuirán', 'VMI', 'O'),\n",
       " ('10.000', 'Z', 'O'),\n",
       " ('ejemplares', 'NC', 'O'),\n",
       " ('preferentemente', 'RG', 'O'),\n",
       " ('en', 'SP', 'O'),\n",
       " ('los', 'DA', 'O'),\n",
       " ('barrios', 'NC', 'O'),\n",
       " ('del', 'SP', 'O'),\n",
       " ('municipio', 'NC', 'O'),\n",
       " ('donde', 'PR', 'O'),\n",
       " ('la', 'DA', 'O'),\n",
       " ('colación', 'NC', 'O'),\n",
       " ('cuenta', 'VMI', 'O'),\n",
       " ('con', 'SP', 'O'),\n",
       " ('mayor', 'AQ', 'O'),\n",
       " ('respaldo', 'NC', 'O'),\n",
       " ('ciudadano', 'AQ', 'O'),\n",
       " ('.', 'Fp', 'O')]"
      ]
     },
     "execution_count": 7,
     "metadata": {
      "tags": []
     },
     "output_type": "execute_result"
    }
   ],
   "source": [
    "print('wielkosć zbioru treningowego:', len(train_sents))\n",
    "print('wielkosć zbioru testowego:' , len(test_sents))\n",
    "train_sents[10]\n",
    "# opis znaczeń tagów: https://freeling-user-manual.readthedocs.io/es/latest/tagsets/tagset-en/"
   ]
  },
  {
   "cell_type": "code",
   "execution_count": null,
   "metadata": {
    "id": "wdSGvwFf57bZ"
   },
   "outputs": [],
   "source": [
    "#nltk.help.upenn_tagset() #używany w nltk tagset angielski"
   ]
  },
  {
   "cell_type": "code",
   "execution_count": 8,
   "metadata": {
    "id": "CFOhUrhz57bZ"
   },
   "outputs": [],
   "source": [
    "#proszę wylistować wszystkie występujące w zbiorze treningowym tagi (2 kolumna) i etykiety (3 kolumna)\n",
    "labl={}\n",
    "tagl={}\n",
    "for s in train_sents:\n",
    "    for w in s:\n",
    "        try:\n",
    "            labl[w[2]]+=1\n",
    "        except KeyError:\n",
    "            labl[w[2]]=1\n",
    "        try:\n",
    "            tagl[w[1]]+=1\n",
    "        except KeyError:\n",
    "            tagl[w[1]]=1\n",
    "#labl=sorted(labl)\n",
    "#tagl=sorted(tagl)"
   ]
  },
  {
   "cell_type": "code",
   "execution_count": 9,
   "metadata": {
    "colab": {
     "base_uri": "https://localhost:8080/"
    },
    "id": "lj86Obog57bZ",
    "outputId": "83a8a91e-6265-4bc4-d6c1-b001eb39b441"
   },
   "outputs": [
    {
     "name": "stdout",
     "output_type": "stream",
     "text": [
      "{'B-LOC': 4913, 'O': 231920, 'B-ORG': 7390, 'B-PER': 4321, 'I-PER': 3903, 'B-MISC': 2173, 'I-ORG': 4992, 'I-LOC': 1891, 'I-MISC': 3212}\n",
      "{'NP': 1150, 'Fpa': 2094, 'Fpt': 2099, 'Fc': 14716, 'Z': 6589, 'NC': 64326, 'Fp': 7263, 'Fg': 1582, 'DA': 25679, 'AQ': 22418, 'SP': 44022, 'VMI': 14036, 'RG': 5306, 'VMN': 4664, 'DI': 5520, 'PR': 5194, 'CS': 4648, 'P0': 2539, 'VMS': 1147, 'CC': 6248, 'PP': 950, 'VAN': 104, 'VMP': 2618, 'DD': 1624, 'VAI': 1838, 'VSP': 186, 'PN': 512, 'VMM': 620, 'DP': 2048, 'RN': 1156, 'PI': 626, 'VSI': 1588, 'VSS': 123, 'VMG': 377, 'Fe': 5691, 'DN': 1317, 'AO': 878, 'Fz': 105, 'Fd': 195, 'Fx': 132, 'I': 95, 'VSN': 207, 'PD': 171, 'Fs': 20, 'PT': 71, 'VAS': 86, 'Fia': 15, 'Fit': 15, 'Fh': 43, 'VSG': 20, 'PX': 3, 'VAP': 13, 'DT': 10, 'Y': 8, 'Fat': 2, 'VSM': 2, 'Faa': 1, 'Ft': 4, 'VAM': 1}\n",
      "['B-LOC', 'B-MISC', 'B-ORG', 'B-PER', 'I-LOC', 'I-MISC', 'I-ORG', 'I-PER', 'O']\n",
      "['AO', 'AQ', 'CC', 'CS', 'DA', 'DD', 'DI', 'DN', 'DP', 'DT', 'Faa', 'Fat', 'Fc', 'Fd', 'Fe', 'Fg', 'Fh', 'Fia', 'Fit', 'Fp', 'Fpa', 'Fpt', 'Fs', 'Ft', 'Fx', 'Fz', 'I', 'NC', 'NP', 'P0', 'PD', 'PI', 'PN', 'PP', 'PR', 'PT', 'PX', 'RG', 'RN', 'SP', 'VAI', 'VAM', 'VAN', 'VAP', 'VAS', 'VMG', 'VMI', 'VMM', 'VMN', 'VMP', 'VMS', 'VSG', 'VSI', 'VSM', 'VSN', 'VSP', 'VSS', 'Y', 'Z']\n"
     ]
    }
   ],
   "source": [
    "print(labl)\n",
    "print(tagl)\n",
    "print(sorted(labl))\n",
    "print(sorted(tagl))"
   ]
  },
  {
   "cell_type": "markdown",
   "metadata": {
    "id": "-Pa3Dzhb57bZ"
   },
   "source": [
    "## Features\n",
    "\n",
    "Next, define some features. In this example we use word identity, word suffix, word shape and word POS tag; also, some information from nearby words is used. \n",
    "\n",
    "This makes a simple baseline, but you certainly can add and remove some features to get (much?) better results - experiment with it.\n",
    "\n",
    "sklearn-crfsuite (and python-crfsuite) supports several feature formats; here we use feature dicts."
   ]
  },
  {
   "cell_type": "code",
   "execution_count": 35,
   "metadata": {
    "colab": {
     "base_uri": "https://localhost:8080/",
     "height": 36
    },
    "id": "UMIM7MSPW57c",
    "outputId": "1439a7c3-6c6e-4b78-85f7-8b4a41e88a40"
   },
   "outputs": [
    {
     "data": {
      "application/vnd.google.colaboratory.intrinsic+json": {
       "type": "string"
      },
      "text/plain": [
       "'01'"
      ]
     },
     "execution_count": 35,
     "metadata": {
      "tags": []
     },
     "output_type": "execute_result"
    }
   ],
   "source": [
    "def num_there(s):\n",
    "    return any(i.isdigit() for i in s)\n",
    "\n",
    "num_there(\"kdsjak23\")\n",
    "len(\"aaa\")\n",
    "\"aaa\"[0:3]\n",
    "\"aabbccdd\"[-2:]\n",
    "\",\".isalpha()\n",
    "\"012\"[0:2]"
   ]
  },
  {
   "cell_type": "code",
   "execution_count": 36,
   "metadata": {
    "id": "AOOGT3OI57bZ"
   },
   "outputs": [],
   "source": [
    "# OPCJA 1\n",
    "# nowe cechy: \n",
    "#1. czy posiada liczbę\n",
    "#2. długość stringa\n",
    "#3. pierwsze 2 litery\n",
    "#4. czy poprzednia/następny to cyfra\n",
    "#5. czy poprzednia/następna to litery alfabetu\n",
    "\n",
    "def word2features(sent, i):\n",
    "    word = sent[i][0]\n",
    "    postag = sent[i][1]\n",
    "    \n",
    "    features = {\n",
    "        'bias': 1.0,\n",
    "        'word.lower()': word.lower(),\n",
    "        'word[-2:]': word[-2:],\n",
    "        'word[0:2]': word[0:2],\n",
    "        'word.isupper()': word.isupper(),\n",
    "        'word.istitle()': word.istitle(),\n",
    "        'word.isdigit()': word.isdigit(),\n",
    "        'num_there(word)': num_there(word),\n",
    "        'len(word)': len(word),\n",
    "        'postag': postag,\n",
    "      \n",
    "    }\n",
    "    if i > 0:\n",
    "        word1 = sent[i-1][0]\n",
    "        postag1 = sent[i-1][1]\n",
    "        features.update({\n",
    "            '-1:word.lower()': word1.lower(),\n",
    "            '-1:word.isupper()': word1.istitle(),\n",
    "            '-1:word.isdigit()': word1.isdigit(),\n",
    "            '-1:word.isalpha()': word1.isalpha(),\n",
    "            'pos-1':postag1\n",
    "        })\n",
    "    else:\n",
    "        features['BOS'] = True\n",
    "        \n",
    "    if i < len(sent)-1:\n",
    "        word1 = sent[i+1][0]\n",
    "        postag1 = sent[i+1][1]\n",
    "        features.update({\n",
    "            '+1:word.lower()': word1.lower(),\n",
    "            '+1:word.isupper()': word1.istitle(),\n",
    "            '+1:word.isdigit()': word1.isdigit(),\n",
    "            '+1:word.isalpha()': word1.isalpha()\n",
    "        })\n",
    "    else:\n",
    "        features['EOS'] = True\n",
    "                \n",
    "    return features\n",
    "\n",
    "\n",
    "def sent2features(sent):\n",
    "    return [word2features(sent, i) for i in range(len(sent))]\n",
    "\n",
    "def sent2labels(sent):\n",
    "    return [label for token, postag, label in sent]\n",
    "\n",
    "def sent2tokens(sent):\n",
    "    return [token for token, postag, label in sent]"
   ]
  },
  {
   "cell_type": "code",
   "execution_count": 51,
   "metadata": {
    "id": "tlCLWvg4Z3bc"
   },
   "outputs": [],
   "source": [
    "# OPCJA 2\n",
    "# nowe cechy: \n",
    "#1. czy posiada liczbę\n",
    "#2. długość stringa poprzedniego/następnego/obecnego\n",
    "#3. pierwsze 3 litery\n",
    "#4. czy poprzednia/następny to cyfra\n",
    "#5. czy poprzednia/następna to litery alfabetu\n",
    "\n",
    "def word2features(sent, i):\n",
    "    word = sent[i][0]\n",
    "    postag = sent[i][1]\n",
    "    \n",
    "    features = {\n",
    "        'bias': 1.0,\n",
    "        'word.lower()': word.lower(),\n",
    "        'word[-2:]': word[-2:],\n",
    "        'word[0:3]': word[0:3],\n",
    "        'word.isupper()': word.isupper(),\n",
    "        'word.istitle()': word.istitle(),\n",
    "        'word.isdigit()': word.isdigit(),\n",
    "        'num_there(word)': num_there(word),\n",
    "        'len(word)': len(word),\n",
    "        'postag': postag,\n",
    "      \n",
    "    }\n",
    "    if i > 0:\n",
    "        word1 = sent[i-1][0]\n",
    "        postag1 = sent[i-1][1]\n",
    "        features.update({\n",
    "            '-1:word.lower()': word1.lower(),\n",
    "            '-1:word.isupper()': word1.istitle(),\n",
    "            '-1:word.isdigit()': word1.isdigit(),\n",
    "            '-1:word.isalpha()': word1.isalpha(),\n",
    "            '-1:len(word)': len(word1),\n",
    "            'pos-1':postag1\n",
    "        })\n",
    "    else:\n",
    "        features['BOS'] = True\n",
    "        \n",
    "    if i < len(sent)-1:\n",
    "        word1 = sent[i+1][0]\n",
    "        postag1 = sent[i+1][1]\n",
    "        features.update({\n",
    "            '+1:word.lower()': word1.lower(),\n",
    "            '+1:word.isupper()': word1.istitle(),\n",
    "            '+1:word.isdigit()': word1.isdigit(),\n",
    "            '+1:word.isalpha()': word1.isalpha(),\n",
    "            '+1:len(word)': len(word1)\n",
    "        })\n",
    "    else:\n",
    "        features['EOS'] = True\n",
    "                \n",
    "    return features\n",
    "\n",
    "\n",
    "def sent2features(sent):\n",
    "    return [word2features(sent, i) for i in range(len(sent))]\n",
    "\n",
    "def sent2labels(sent):\n",
    "    return [label for token, postag, label in sent]\n",
    "\n",
    "def sent2tokens(sent):\n",
    "    return [token for token, postag, label in sent]"
   ]
  },
  {
   "cell_type": "markdown",
   "metadata": {
    "id": "227e68Tg57bZ"
   },
   "source": [
    "This is what word2features extracts:"
   ]
  },
  {
   "cell_type": "code",
   "execution_count": 52,
   "metadata": {
    "colab": {
     "base_uri": "https://localhost:8080/"
    },
    "id": "keY1TvcS57bZ",
    "outputId": "2c3f838f-bdc7-4c32-b6d5-f9cc586cf63c"
   },
   "outputs": [
    {
     "name": "stdout",
     "output_type": "stream",
     "text": [
      "[('Melbourne', 'NP', 'B-LOC'), ('(', 'Fpa', 'O'), ('Australia', 'NP', 'B-LOC'), (')', 'Fpt', 'O'), (',', 'Fc', 'O'), ('25', 'Z', 'O'), ('may', 'NC', 'O'), ('(', 'Fpa', 'O'), ('EFE', 'NC', 'B-ORG'), (')', 'Fpt', 'O'), ('.', 'Fp', 'O')]\n"
     ]
    },
    {
     "data": {
      "text/plain": [
       "{'+1:len(word)': 9,\n",
       " '+1:word.isalpha()': True,\n",
       " '+1:word.isdigit()': False,\n",
       " '+1:word.isupper()': True,\n",
       " '+1:word.lower()': 'australia',\n",
       " '-1:len(word)': 9,\n",
       " '-1:word.isalpha()': True,\n",
       " '-1:word.isdigit()': False,\n",
       " '-1:word.isupper()': True,\n",
       " '-1:word.lower()': 'melbourne',\n",
       " 'bias': 1.0,\n",
       " 'len(word)': 1,\n",
       " 'num_there(word)': False,\n",
       " 'pos-1': 'NP',\n",
       " 'postag': 'Fpa',\n",
       " 'word.isdigit()': False,\n",
       " 'word.istitle()': False,\n",
       " 'word.isupper()': False,\n",
       " 'word.lower()': '(',\n",
       " 'word[-2:]': '(',\n",
       " 'word[0:3]': '('}"
      ]
     },
     "execution_count": 52,
     "metadata": {
      "tags": []
     },
     "output_type": "execute_result"
    }
   ],
   "source": [
    "print(train_sents[0])\n",
    "sent2features(train_sents[0])[1]"
   ]
  },
  {
   "cell_type": "markdown",
   "metadata": {
    "id": "BoG61aIq57bZ"
   },
   "source": [
    "Extract features from the data:"
   ]
  },
  {
   "cell_type": "code",
   "execution_count": 53,
   "metadata": {
    "colab": {
     "base_uri": "https://localhost:8080/"
    },
    "id": "R_8oInu957bZ",
    "outputId": "efe74798-5605-4ed6-bb23-baa9e8a11cb0"
   },
   "outputs": [
    {
     "name": "stdout",
     "output_type": "stream",
     "text": [
      "CPU times: user 1.71 s, sys: 394 ms, total: 2.11 s\n",
      "Wall time: 2.11 s\n"
     ]
    }
   ],
   "source": [
    "%%time\n",
    "X_train = [sent2features(s) for s in train_sents]\n",
    "y_train = [sent2labels(s) for s in train_sents]\n",
    "\n",
    "X_test = [sent2features(s) for s in test_sents]\n",
    "y_test = [sent2labels(s) for s in test_sents]"
   ]
  },
  {
   "cell_type": "markdown",
   "metadata": {
    "id": "BIpwxULX57ba"
   },
   "source": [
    "## Training\n",
    "\n",
    "To see all possible CRF parameters check its docstring. Here we are useing L-BFGS training algorithm (it is default) with Elastic Net (L1 + L2) regularization."
   ]
  },
  {
   "cell_type": "code",
   "execution_count": null,
   "metadata": {
    "id": "cjKi-qiO57ba"
   },
   "outputs": [],
   "source": [
    " #help(sklearn_crfsuite.CRF)"
   ]
  },
  {
   "cell_type": "code",
   "execution_count": 54,
   "metadata": {
    "colab": {
     "base_uri": "https://localhost:8080/"
    },
    "id": "O7r2IBUf57ba",
    "outputId": "929e60b9-159d-433e-f120-5cc17b39b3dc"
   },
   "outputs": [
    {
     "name": "stdout",
     "output_type": "stream",
     "text": [
      "CPU times: user 47.6 s, sys: 50.5 ms, total: 47.6 s\n",
      "Wall time: 47.6 s\n"
     ]
    }
   ],
   "source": [
    "%%time\n",
    "crf = sklearn_crfsuite.CRF(\n",
    "    algorithm='lbfgs', \n",
    "    c1=0.1, #0-1 -> raczej niższe\n",
    "    c2=0.1, #0-1\n",
    "    max_iterations=100, #ilość iteracji, 100 trwa około 30 sekund \n",
    "    all_possible_transitions=True\n",
    ")\n",
    "crf.fit(X_train, y_train)"
   ]
  },
  {
   "cell_type": "markdown",
   "metadata": {
    "id": "9UUuCykj57ba"
   },
   "source": [
    "## Evaluation\n",
    "\n",
    "There is much more O entities in data set, but we're more interested in other entities. To account for this we'll use averaged F1 score computed for all labels except for O. ``sklearn-crfsuite.metrics`` package provides some useful metrics for sequence classification task, including this one."
   ]
  },
  {
   "cell_type": "code",
   "execution_count": 15,
   "metadata": {
    "colab": {
     "base_uri": "https://localhost:8080/"
    },
    "id": "Oer93-BM57ba",
    "outputId": "059ee479-aeaa-444a-951a-201b9cc7cab9"
   },
   "outputs": [
    {
     "data": {
      "text/plain": [
       "['B-LOC', 'B-ORG', 'B-PER', 'I-PER', 'B-MISC', 'I-ORG', 'I-LOC', 'I-MISC']"
      ]
     },
     "execution_count": 15,
     "metadata": {
      "tags": []
     },
     "output_type": "execute_result"
    }
   ],
   "source": [
    "labels = list(crf.classes_)\n",
    "labels.remove('O')\n",
    "labels"
   ]
  },
  {
   "cell_type": "code",
   "execution_count": 16,
   "metadata": {
    "colab": {
     "base_uri": "https://localhost:8080/"
    },
    "id": "AgzEwgTj57ba",
    "outputId": "16579998-447b-4fb8-9730-1ad95cc8f79b"
   },
   "outputs": [
    {
     "data": {
      "text/plain": [
       "0.7946395332266392"
      ]
     },
     "execution_count": 16,
     "metadata": {
      "tags": []
     },
     "output_type": "execute_result"
    }
   ],
   "source": [
    "y_pred = crf.predict(X_test)\n",
    "metrics.flat_f1_score(y_test, y_pred, \n",
    "                      average='weighted', labels=labels) #f1 ważone częstością występowania, nie uwzględniając etykiety \"O\" bo jest ich duża nadreprezentacja"
   ]
  },
  {
   "cell_type": "markdown",
   "metadata": {
    "id": "fEAKRvNa57ba"
   },
   "source": [
    "Inspect per-class results in more detail:"
   ]
  },
  {
   "cell_type": "code",
   "execution_count": 17,
   "metadata": {
    "colab": {
     "base_uri": "https://localhost:8080/"
    },
    "id": "JTnTuYPd57ba",
    "outputId": "81aa0bb2-a901-4f09-a4cc-7c1f8953b221"
   },
   "outputs": [
    {
     "name": "stdout",
     "output_type": "stream",
     "text": [
      "              precision    recall  f1-score   support\n",
      "\n",
      "       B-LOC      0.812     0.777     0.794      1084\n",
      "       I-LOC      0.691     0.674     0.682       325\n",
      "      B-MISC      0.725     0.537     0.617       339\n",
      "      I-MISC      0.672     0.576     0.620       557\n",
      "       B-ORG      0.813     0.832     0.822      1400\n",
      "       I-ORG      0.853     0.786     0.818      1104\n",
      "       B-PER      0.840     0.891     0.865       735\n",
      "       I-PER      0.892     0.946     0.918       634\n",
      "\n",
      "   micro avg      0.810     0.785     0.798      6178\n",
      "   macro avg      0.787     0.752     0.767      6178\n",
      "weighted avg      0.807     0.785     0.795      6178\n",
      "\n"
     ]
    }
   ],
   "source": [
    "# group B and I results\n",
    "sorted_labels = sorted(\n",
    "    labels, \n",
    "    key=lambda name: (name[1:], name[0])\n",
    ")\n",
    "print(metrics.flat_classification_report(\n",
    "    y_test, y_pred, labels=sorted_labels, digits=3\n",
    "))"
   ]
  },
  {
   "cell_type": "markdown",
   "metadata": {
    "id": "BhJ4Y42J57ba"
   },
   "source": [
    "## Hyperparameter Optimization\n",
    "\n",
    "To improve quality try to select regularization parameters using randomized search and 3-fold cross-validation.\n",
    "\n",
    "I takes quite a lot of CPU time and RAM (we're fitting a model ``50 * 3 = 150`` times), so grab a tea and be patient, or reduce n_iter in RandomizedSearchCV, or fit model only on a subset of training data."
   ]
  },
  {
   "cell_type": "code",
   "execution_count": 18,
   "metadata": {
    "colab": {
     "base_uri": "https://localhost:8080/",
     "height": 1000
    },
    "id": "Xq7R3_HR57ba",
    "outputId": "32f2152d-9a8a-4a40-861d-5d8b3e90b10a"
   },
   "outputs": [
    {
     "name": "stdout",
     "output_type": "stream",
     "text": [
      "Fitting 3 folds for each of 10 candidates, totalling 30 fits\n"
     ]
    },
    {
     "name": "stderr",
     "output_type": "stream",
     "text": [
      "/usr/local/lib/python3.6/dist-packages/sklearn/base.py:197: FutureWarning: From version 0.24, get_params will raise an AttributeError if a parameter cannot be retrieved as an instance attribute. Previously it would return None.\n",
      "  FutureWarning)\n",
      "[Parallel(n_jobs=-1)]: Using backend LokyBackend with 2 concurrent workers.\n",
      "ERROR:root:Internal Python error in the inspect module.\n",
      "Below is the traceback from this internal error.\n",
      "\n"
     ]
    },
    {
     "name": "stdout",
     "output_type": "stream",
     "text": [
      "Traceback (most recent call last):\n",
      "  File \"/usr/local/lib/python3.6/dist-packages/IPython/core/interactiveshell.py\", line 2882, in run_code\n",
      "    exec(code_obj, self.user_global_ns, self.user_ns)\n",
      "  File \"<ipython-input-18-a48c477186d1>\", line 1, in <module>\n",
      "    get_ipython().run_cell_magic('time', '', \"# define fixed parameters and parameters to search\\ncrf = sklearn_crfsuite.CRF(\\n    algorithm='lbfgs', \\n    max_iterations=100, \\n    all_possible_transitions=True\\n)\\nparams_space = {\\n    'c1': scipy.stats.expon(scale=0.5),\\n    'c2': scipy.stats.expon(scale=0.05),\\n}\\n\\n# use the same metric for evaluation\\nf1_scorer = make_scorer(metrics.flat_f1_score, \\n                        average='weighted', labels=labels)\\n\\n# search\\nrs = RandomizedSearchCV(crf,            #wyszukiwanie kombinacji parametrów\\n                        params_space, \\n                        cv=3,           #3 zbiory do cross-validation\\n                        verbose=1, \\n                        n_jobs=-1, \\n                        n_iter=10,   #10 prób = 15 minut \\n                        scoring=f1_scorer)\\n\\nrs.fit(X_train, y_train)\")\n",
      "  File \"/usr/local/lib/python3.6/dist-packages/IPython/core/interactiveshell.py\", line 2117, in run_cell_magic\n",
      "    result = fn(magic_arg_s, cell)\n",
      "  File \"<decorator-gen-60>\", line 2, in time\n",
      "  File \"/usr/local/lib/python3.6/dist-packages/IPython/core/magic.py\", line 188, in <lambda>\n",
      "    call = lambda f, *a, **k: f(*a, **k)\n",
      "  File \"/usr/local/lib/python3.6/dist-packages/IPython/core/magics/execution.py\", line 1193, in time\n",
      "    exec(code, glob, local_ns)\n",
      "  File \"<timed exec>\", line 25, in <module>\n",
      "  File \"/usr/local/lib/python3.6/dist-packages/sklearn/model_selection/_search.py\", line 710, in fit\n",
      "    self._run_search(evaluate_candidates)\n",
      "  File \"/usr/local/lib/python3.6/dist-packages/sklearn/model_selection/_search.py\", line 1484, in _run_search\n",
      "    random_state=self.random_state))\n",
      "  File \"/usr/local/lib/python3.6/dist-packages/sklearn/model_selection/_search.py\", line 689, in evaluate_candidates\n",
      "    cv.split(X, y, groups)))\n",
      "  File \"/usr/local/lib/python3.6/dist-packages/joblib/parallel.py\", line 1061, in __call__\n",
      "    self.retrieve()\n",
      "  File \"/usr/local/lib/python3.6/dist-packages/joblib/parallel.py\", line 940, in retrieve\n",
      "    self._output.extend(job.get(timeout=self.timeout))\n",
      "  File \"/usr/local/lib/python3.6/dist-packages/joblib/_parallel_backends.py\", line 542, in wrap_future_result\n",
      "    return future.result(timeout=timeout)\n",
      "  File \"/usr/lib/python3.6/concurrent/futures/_base.py\", line 427, in result\n",
      "    self._condition.wait(timeout)\n",
      "  File \"/usr/lib/python3.6/threading.py\", line 295, in wait\n",
      "    waiter.acquire()\n",
      "KeyboardInterrupt\n",
      "\n",
      "During handling of the above exception, another exception occurred:\n",
      "\n",
      "Traceback (most recent call last):\n",
      "  File \"/usr/local/lib/python3.6/dist-packages/IPython/core/interactiveshell.py\", line 1823, in showtraceback\n",
      "    stb = value._render_traceback_()\n",
      "AttributeError: 'KeyboardInterrupt' object has no attribute '_render_traceback_'\n",
      "\n",
      "During handling of the above exception, another exception occurred:\n",
      "\n",
      "Traceback (most recent call last):\n",
      "  File \"/usr/local/lib/python3.6/dist-packages/IPython/core/ultratb.py\", line 1132, in get_records\n",
      "    return _fixed_getinnerframes(etb, number_of_lines_of_context, tb_offset)\n",
      "  File \"/usr/local/lib/python3.6/dist-packages/IPython/core/ultratb.py\", line 313, in wrapped\n",
      "    return f(*args, **kwargs)\n",
      "  File \"/usr/local/lib/python3.6/dist-packages/IPython/core/ultratb.py\", line 358, in _fixed_getinnerframes\n",
      "    records = fix_frame_records_filenames(inspect.getinnerframes(etb, context))\n",
      "  File \"/usr/lib/python3.6/inspect.py\", line 1490, in getinnerframes\n",
      "    frameinfo = (tb.tb_frame,) + getframeinfo(tb, context)\n",
      "  File \"/usr/lib/python3.6/inspect.py\", line 1448, in getframeinfo\n",
      "    filename = getsourcefile(frame) or getfile(frame)\n",
      "  File \"/usr/lib/python3.6/inspect.py\", line 696, in getsourcefile\n",
      "    if getattr(getmodule(object, filename), '__loader__', None) is not None:\n",
      "  File \"/usr/lib/python3.6/inspect.py\", line 742, in getmodule\n",
      "    os.path.realpath(f)] = module.__name__\n",
      "  File \"/usr/lib/python3.6/posixpath.py\", line 395, in realpath\n",
      "    path, ok = _joinrealpath(filename[:0], filename, {})\n",
      "  File \"/usr/lib/python3.6/posixpath.py\", line 429, in _joinrealpath\n",
      "    if not islink(newpath):\n",
      "  File \"/usr/lib/python3.6/posixpath.py\", line 171, in islink\n",
      "    st = os.lstat(path)\n",
      "KeyboardInterrupt\n"
     ]
    },
    {
     "ename": "KeyboardInterrupt",
     "evalue": "ignored",
     "output_type": "error",
     "traceback": [
      "\u001b[0;31m---------------------------------------------------------------------------\u001b[0m"
     ]
    }
   ],
   "source": [
    "%%time\n",
    "# define fixed parameters and parameters to search\n",
    "crf = sklearn_crfsuite.CRF(\n",
    "    algorithm='lbfgs', \n",
    "    max_iterations=100, \n",
    "    all_possible_transitions=True\n",
    ")\n",
    "params_space = {\n",
    "    'c1': scipy.stats.expon(scale=0.5),\n",
    "    'c2': scipy.stats.expon(scale=0.05),\n",
    "}\n",
    "\n",
    "# use the same metric for evaluation\n",
    "f1_scorer = make_scorer(metrics.flat_f1_score, \n",
    "                        average='weighted', labels=labels)\n",
    "\n",
    "# search\n",
    "rs = RandomizedSearchCV(crf,            #wyszukiwanie kombinacji parametrów\n",
    "                        params_space, \n",
    "                        cv=3,           #3 zbiory do cross-validation\n",
    "                        verbose=1, \n",
    "                        n_jobs=-1, \n",
    "                        n_iter=10,   #10 prób losowo próbowanych kombinacji c1 oraz c2 = 15 minut \n",
    "                        scoring=f1_scorer)\n",
    "\n",
    "rs.fit(X_train, y_train) # dostaniemy najlepsze parametry c1 / c2"
   ]
  },
  {
   "cell_type": "markdown",
   "metadata": {
    "id": "v8oH-5Lj57ba"
   },
   "source": [
    "Best result:"
   ]
  },
  {
   "cell_type": "code",
   "execution_count": null,
   "metadata": {
    "colab": {
     "base_uri": "https://localhost:8080/"
    },
    "id": "HNEoUJI457ba",
    "outputId": "6ed0e97f-df48-4887-f130-e9624d8199cc"
   },
   "outputs": [
    {
     "name": "stdout",
     "output_type": "stream",
     "text": [
      "best params: {'c1': 0.1914222063514142, 'c2': 0.028518558048064052}\n",
      "best CV score: 0.7444225620925201\n",
      "model size: 1.06M\n"
     ]
    }
   ],
   "source": [
    "# crf = rs.best_estimator_\n",
    "print('best params:', rs.best_params_)\n",
    "print('best CV score:', rs.best_score_)\n",
    "print('model size: {:0.2f}M'.format(rs.best_estimator_.size_ / 1000000))"
   ]
  },
  {
   "cell_type": "markdown",
   "metadata": {
    "id": "2XInzwy-57ba"
   },
   "source": [
    "### Check parameter space\n",
    "\n",
    "A chart which shows which ``c1`` and ``c2`` values have RandomizedSearchCV checked. Red color means better results, blue means worse."
   ]
  },
  {
   "cell_type": "code",
   "execution_count": null,
   "metadata": {
    "colab": {
     "base_uri": "https://localhost:8080/",
     "height": 755
    },
    "id": "IhZH06UI57ba",
    "outputId": "5375304e-7cf6-4e36-e030-8d29100a8afd"
   },
   "outputs": [
    {
     "name": "stdout",
     "output_type": "stream",
     "text": [
      "Dark blue => 0.7028, dark red => 0.7444\n"
     ]
    },
    {
     "data": {
      "image/png": "[encoded data removed]",
      "text/plain": [
       "<Figure size 864x864 with 1 Axes>"
      ]
     },
     "metadata": {
      "tags": []
     },
     "output_type": "display_data"
    }
   ],
   "source": [
    "_x = [s['c1'] for s in rs.cv_results_['params']]\n",
    "_y = [s['c2'] for s in rs.cv_results_['params']]\n",
    "_c = [s for s in rs.cv_results_['mean_test_score']]\n",
    "\n",
    "fig = plt.figure()\n",
    "fig.set_size_inches(12, 12)\n",
    "ax = plt.gca()\n",
    "ax.set_yscale('log')\n",
    "ax.set_xscale('log')\n",
    "ax.set_xlabel('C1')\n",
    "ax.set_ylabel('C2')\n",
    "ax.set_title(\"Randomized Hyperparameter Search CV Results (min={:0.3}, max={:0.3})\".format(\n",
    "    min(_c), max(_c)\n",
    "))\n",
    "\n",
    "ax.scatter(_x, _y, c=_c, s=60, alpha=0.9, edgecolors=[0,0,0])\n",
    "\n",
    "print(\"Dark blue => {:0.4}, dark red => {:0.4}\".format(min(_c), max(_c)))"
   ]
  },
  {
   "cell_type": "markdown",
   "metadata": {
    "id": "z_jCTjf557ba"
   },
   "source": [
    "## Check best estimator on our test data\n",
    "\n",
    "As you can see, quality is improved."
   ]
  },
  {
   "cell_type": "code",
   "execution_count": null,
   "metadata": {
    "colab": {
     "base_uri": "https://localhost:8080/"
    },
    "id": "_NBIlXV357ba",
    "outputId": "0f75e382-54b7-4254-e8ce-a7fbaf4d807a"
   },
   "outputs": [
    {
     "name": "stdout",
     "output_type": "stream",
     "text": [
      "              precision    recall  f1-score   support\n",
      "\n",
      "       B-LOC      0.797     0.774     0.785      1084\n",
      "       I-LOC      0.666     0.662     0.664       325\n",
      "      B-MISC      0.713     0.534     0.610       339\n",
      "      I-MISC      0.668     0.564     0.611       557\n",
      "       B-ORG      0.811     0.826     0.818      1400\n",
      "       I-ORG      0.840     0.781     0.809      1104\n",
      "       B-PER      0.831     0.880     0.855       735\n",
      "       I-PER      0.886     0.942     0.913       634\n",
      "\n",
      "   micro avg      0.801     0.779     0.790      6178\n",
      "   macro avg      0.776     0.745     0.758      6178\n",
      "weighted avg      0.798     0.779     0.787      6178\n",
      "\n"
     ]
    }
   ],
   "source": [
    "crf = rs.best_estimator_\n",
    "y_pred = crf.predict(X_test)\n",
    "print(metrics.flat_classification_report(\n",
    "    y_test, y_pred, labels=sorted_labels, digits=3\n",
    "))"
   ]
  },
  {
   "cell_type": "markdown",
   "metadata": {
    "id": "hJ8y6HhL57ba"
   },
   "source": [
    "## Let's check what classifier learned"
   ]
  },
  {
   "cell_type": "code",
   "execution_count": null,
   "metadata": {
    "colab": {
     "base_uri": "https://localhost:8080/"
    },
    "id": "1fayHIt-57ba",
    "outputId": "7ca13d40-6d2f-4e8d-a3cc-f194a6a66b79"
   },
   "outputs": [
    {
     "name": "stdout",
     "output_type": "stream",
     "text": [
      "Top likely transitions:\n",
      "B-PER  -> I-PER   6.378978\n",
      "I-MISC -> I-MISC  6.320245\n",
      "I-ORG  -> I-ORG   5.860545\n",
      "B-LOC  -> I-LOC   5.553477\n",
      "B-ORG  -> I-ORG   5.486598\n",
      "B-MISC -> I-MISC  5.076601\n",
      "I-PER  -> I-PER   4.964020\n",
      "I-LOC  -> I-LOC   4.927105\n",
      "O      -> O       3.539062\n",
      "O      -> B-MISC  2.619639\n",
      "O      -> B-ORG   2.457916\n",
      "O      -> B-PER   1.740945\n",
      "O      -> B-LOC   1.266073\n",
      "B-ORG  -> O       0.004083\n",
      "B-LOC  -> B-LOC   -0.045587\n",
      "B-PER  -> O       -0.130477\n",
      "I-PER  -> B-LOC   -0.210908\n",
      "I-ORG  -> O       -0.458894\n",
      "B-LOC  -> O       -0.643208\n",
      "I-LOC  -> O       -0.709439\n",
      "\n",
      "Top unlikely transitions:\n",
      "B-MISC -> I-LOC   -3.040416\n",
      "B-LOC  -> I-ORG   -3.056277\n",
      "I-LOC  -> B-PER   -3.134422\n",
      "B-ORG  -> B-MISC  -3.134814\n",
      "I-LOC  -> B-LOC   -3.207932\n",
      "I-LOC  -> I-ORG   -3.211684\n",
      "I-MISC -> B-ORG   -3.367299\n",
      "I-ORG  -> B-LOC   -3.372592\n",
      "I-MISC -> B-LOC   -3.386278\n",
      "I-MISC -> I-LOC   -3.480351\n",
      "I-PER  -> B-ORG   -3.560670\n",
      "B-ORG  -> B-ORG   -3.818625\n",
      "I-MISC -> I-ORG   -3.897067\n",
      "B-PER  -> B-PER   -3.907415\n",
      "B-MISC -> B-MISC  -4.014789\n",
      "B-MISC -> I-ORG   -4.064028\n",
      "O      -> I-MISC  -5.675124\n",
      "O      -> I-PER   -6.078555\n",
      "O      -> I-LOC   -6.319333\n",
      "O      -> I-ORG   -6.754862\n"
     ]
    }
   ],
   "source": [
    "from collections import Counter\n",
    "\n",
    "def print_transitions(trans_features):\n",
    "    for (label_from, label_to), weight in trans_features:\n",
    "        print(\"%-6s -> %-7s %0.6f\" % (label_from, label_to, weight))\n",
    "\n",
    "print(\"Top likely transitions:\")\n",
    "print_transitions(Counter(crf.transition_features_).most_common(20))\n",
    "\n",
    "print(\"\\nTop unlikely transitions:\")\n",
    "print_transitions(Counter(crf.transition_features_).most_common()[-20:])"
   ]
  },
  {
   "cell_type": "markdown",
   "metadata": {
    "id": "B3RSBwEC57ba"
   },
   "source": [
    "We can see that, for example, it is very likely that the beginning of an organization name (B-ORG) will be followed by a token inside organization name (I-ORG), but transitions to I-ORG from tokens with other labels are penalized.\n",
    "\n",
    "Check the state features:"
   ]
  },
  {
   "cell_type": "code",
   "execution_count": null,
   "metadata": {
    "colab": {
     "base_uri": "https://localhost:8080/"
    },
    "id": "5mfaCAzl57ba",
    "outputId": "6c5c2467-ff2e-43d9-bda8-29bf71116f14"
   },
   "outputs": [
    {
     "name": "stdout",
     "output_type": "stream",
     "text": [
      "Top positive:\n",
      "10.796855 B-ORG    word.lower():psoe-progresistas\n",
      "9.992604 O        word.lower():r.\n",
      "7.386583 B-PER    word.lower():mcmanaman\n",
      "7.235921 B-ORG    word.lower():petrobras\n",
      "7.117186 B-ORG    word.lower():coag-extremadura\n",
      "6.716229 B-ORG    word[-2:]:-e\n",
      "6.581741 O        bias\n",
      "6.416178 O        word.lower():b\n",
      "6.416178 O        word[-2:]:B\n",
      "6.089423 O        word.lower():c\n",
      "6.003133 B-ORG    word.lower():ciu\n",
      "6.003133 B-ORG    word[-2:]:iU\n",
      "5.988865 B-MISC   word.lower():cc2305001730\n",
      "5.976495 B-ORG    +1:word.lower():plasencia\n",
      "5.968305 B-ORG    -1:word.lower():distancia\n",
      "5.675564 B-LOC    word.lower():partenón\n",
      "5.647035 O        word[-2:]:V\n",
      "5.636666 B-LOC    +1:word.lower():finalizaron\n",
      "5.543899 O        word.lower():v\n",
      "5.515547 O        word.lower():mayo\n",
      "5.433076 B-MISC   word.lower():diversia\n",
      "5.429710 B-LOC    -1:word.lower():cantabria\n",
      "5.417582 B-ORG    word.lower():fitchibca\n",
      "5.406014 B-MISC   word.lower():competencia\n",
      "5.350980 O        word[-2:]:C\n",
      "5.347097 B-ORG    word.lower():ongs\n",
      "5.347097 B-ORG    word[-2:]:Gs\n",
      "5.344955 B-MISC   word.lower():liga\n",
      "5.315733 O        word.lower():y\n",
      "5.281598 B-ORG    word.lower():xfera\n",
      "\n",
      "Top negative:\n",
      "-2.351021 O        +1:word.lower():confirmó\n",
      "-2.381422 O        -1:word.lower():como\n",
      "-2.400076 O        word.lower():artículo\n",
      "-2.409307 O        -1:word.lower():'2006\n",
      "-2.410339 O        -1:word.lower():sánchez\n",
      "-2.435766 O        word.lower():ora\n",
      "-2.438134 B-ORG    word[-2:]:R.\n",
      "-2.447954 O        +1:word.lower():denunció\n",
      "-2.470271 O        -1:word.lower():británica\n",
      "-2.484787 O        word[-2:]:up\n",
      "-2.512776 O        -1:word.lower():para\n",
      "-2.612124 O        -1:word.lower():español\n",
      "-2.645488 B-PER    word[-2:]:os\n",
      "-2.645554 O        -1:word.lower():de\n",
      "-2.677423 B-PER    postag:DA\n",
      "-2.679844 O        -1:word.lower():pardo\n",
      "-2.703838 O        -1:word.lower():país\n",
      "-2.712394 I-PER    -1:word.lower():san\n",
      "-2.719024 B-PER    -1:word.lower():el\n",
      "-2.783325 O        -1:word.lower():sección\n",
      "-2.871038 O        +1:word.lower():plasencia\n",
      "-2.974547 B-ORG    postag:SP\n",
      "-3.423384 B-PER    postag:SP\n",
      "-3.442920 B-PER    -1:word.lower():del\n",
      "-3.459832 B-MISC   postag:SP\n",
      "-3.818454 O        word[-2:]:nd\n",
      "-4.390161 O        word[-2:]:om\n",
      "-4.946170 O        postag:NP\n",
      "-5.057353 O        word.isupper()\n",
      "-8.552188 O        word.istitle()\n"
     ]
    }
   ],
   "source": [
    "def print_state_features(state_features):\n",
    "    for (attr, label), weight in state_features:\n",
    "        print(\"%0.6f %-8s %s\" % (weight, label, attr))    \n",
    "\n",
    "print(\"Top positive:\")\n",
    "print_state_features(Counter(crf.state_features_).most_common(30))\n",
    "\n",
    "print(\"\\nTop negative:\")\n",
    "print_state_features(Counter(crf.state_features_).most_common()[-30:])"
   ]
  },
  {
   "cell_type": "markdown",
   "metadata": {
    "id": "J_X3ylJV57ba"
   },
   "source": [
    "\n",
    "\n",
    "Some observations: (from previous runs, more iterations)\n",
    "\n",
    "   * the model remembered names of some entities - maybe it is overfit, or maybe our features are not adequate, or maybe remembering is indeed helpful;\n",
    "   * \"calle\" is a street in Spanish; model learns that if a previous word was \"calle\" then the token is likely a part of location;\n",
    "   *  UPPERCASED or TitleCased words are likely entities of some kind;\n",
    "   * proper nouns (NP is a proper noun in the Spanish tagset) are often entities.\n",
    "\n",
    "What to do next\n",
    "\n",
    "    * Load 'testa' Spanish data.\n",
    "    * Use it to develop better features and to find best model parameters.\n",
    "    * Apply the model to 'testb' data again.\n",
    "\n",
    "\n",
    "\n"
   ]
  },
  {
   "cell_type": "code",
   "execution_count": 44,
   "metadata": {
    "colab": {
     "base_uri": "https://localhost:8080/"
    },
    "id": "rBw0VK7657ba",
    "outputId": "6c8ee376-69c9-407e-9026-821fc3dca8c6"
   },
   "outputs": [
    {
     "name": "stdout",
     "output_type": "stream",
     "text": [
      "KFold(n_splits=3, random_state=None, shuffle=False)\n",
      "TRAIN: [2 3 4 5] TEST: [0 1]\n",
      "TRAIN: [0 1 4 5] TEST: [2 3]\n",
      "TRAIN: [0 1 2 3] TEST: [4 5]\n"
     ]
    }
   ],
   "source": [
    "#krosswalidacja\n",
    "from sklearn.model_selection import KFold\n",
    "import numpy\n",
    "\n",
    "A = numpy.array([[1, 2], [3, 4], [1, 2], [3, 4], [5,6],[7,8]])\n",
    "b = numpy.array([1, 2, 3, 4,5,6])\n",
    "kf = KFold(n_splits=3)\n",
    "kf.get_n_splits(A)\n",
    "print(kf)\n",
    "#KFold(n_splits=2, random_state=None, shuffle=False)\n",
    "for train_index, test_index in kf.split(A):\n",
    "     print(\"TRAIN:\", train_index, \"TEST:\", test_index)\n",
    "     b_train, b_test = b[train_index], b[test_index]"
   ]
  },
  {
   "cell_type": "code",
   "execution_count": 45,
   "metadata": {
    "colab": {
     "base_uri": "https://localhost:8080/"
    },
    "id": "WAZuppqURoWO",
    "outputId": "e77f6364-a851-4a01-f7c7-6ad884a63569"
   },
   "outputs": [
    {
     "name": "stdout",
     "output_type": "stream",
     "text": [
      "fold\n",
      "              precision    recall  f1-score   support\n",
      "\n",
      "       B-LOC      0.779     0.812     0.795      1539\n",
      "       I-LOC      0.758     0.642     0.695       497\n",
      "      B-MISC      0.635     0.431     0.514       719\n",
      "      I-MISC      0.536     0.474     0.503       889\n",
      "       B-ORG      0.813     0.808     0.810      2235\n",
      "       I-ORG      0.765     0.808     0.786      1543\n",
      "       B-PER      0.848     0.848     0.848      1230\n",
      "       I-PER      0.897     0.940     0.918      1062\n",
      "\n",
      "   micro avg      0.779     0.761     0.770      9714\n",
      "   macro avg      0.754     0.720     0.734      9714\n",
      "weighted avg      0.772     0.761     0.765      9714\n",
      "\n",
      "fold\n",
      "              precision    recall  f1-score   support\n",
      "\n",
      "       B-LOC      0.761     0.737     0.749      1732\n",
      "       I-LOC      0.699     0.621     0.658       752\n",
      "      B-MISC      0.675     0.513     0.583       746\n",
      "      I-MISC      0.561     0.450     0.499      1180\n",
      "       B-ORG      0.790     0.747     0.768      2581\n",
      "       I-ORG      0.735     0.776     0.755      1879\n",
      "       B-PER      0.840     0.856     0.848      1427\n",
      "       I-PER      0.867     0.918     0.891      1275\n",
      "\n",
      "   micro avg      0.761     0.729     0.745     11572\n",
      "   macro avg      0.741     0.702     0.719     11572\n",
      "weighted avg      0.755     0.729     0.740     11572\n",
      "\n",
      "fold\n",
      "              precision    recall  f1-score   support\n",
      "\n",
      "       B-LOC      0.681     0.738     0.708      1642\n",
      "       I-LOC      0.646     0.595     0.620       642\n",
      "      B-MISC      0.567     0.425     0.486       708\n",
      "      I-MISC      0.459     0.486     0.472      1143\n",
      "       B-ORG      0.813     0.748     0.779      2574\n",
      "       I-ORG      0.681     0.744     0.711      1570\n",
      "       B-PER      0.861     0.840     0.850      1664\n",
      "       I-PER      0.888     0.914     0.901      1566\n",
      "\n",
      "   micro avg      0.732     0.728     0.730     11509\n",
      "   macro avg      0.699     0.686     0.691     11509\n",
      "weighted avg      0.733     0.728     0.729     11509\n",
      "\n",
      "all results\n",
      "              precision    recall  f1-score   support\n",
      "\n",
      "       B-LOC      0.738     0.761     0.749      4913\n",
      "       I-LOC      0.695     0.618     0.654      1891\n",
      "      B-MISC      0.627     0.457     0.529      2173\n",
      "      I-MISC      0.512     0.469     0.490      3212\n",
      "       B-ORG      0.805     0.766     0.785      7390\n",
      "       I-ORG      0.727     0.776     0.751      4992\n",
      "       B-PER      0.850     0.848     0.849      4321\n",
      "       I-PER      0.883     0.922     0.902      3903\n",
      "\n",
      "   micro avg      0.756     0.738     0.747     32795\n",
      "   macro avg      0.730     0.702     0.714     32795\n",
      "weighted avg      0.752     0.738     0.743     32795\n",
      "\n"
     ]
    }
   ],
   "source": [
    "kf = KFold(n_splits=3)\n",
    "kf.get_n_splits(X_train)\n",
    "y_pred_all=[]\n",
    "for train_index, test_index in kf.split(X_train):\n",
    "    X_tr, X_tst = numpy.array(X_train)[train_index], numpy.array(X_train)[test_index]\n",
    "    y_tr, y_tst = numpy.array(y_train)[train_index], numpy.array(y_train)[test_index]\n",
    "    #print(train_index[1])\n",
    "    #print(X_train[test_index[0]])\n",
    "    crf.fit(X_tr, y_tr)\n",
    "    y_pred = crf.predict(X_tst)\n",
    "    print(\"fold\")\n",
    "    print(metrics.flat_classification_report(y_tst, y_pred, labels=sorted_labels, digits=3))\n",
    "    y_pred_all.extend(y_pred)\n",
    "print(\"all results\")\n",
    "print(metrics.flat_classification_report(y_train, y_pred_all, labels=sorted_labels, digits=3))\n",
    "  \n",
    "  "
   ]
  },
  {
   "cell_type": "markdown",
   "metadata": {
    "id": "ycRGRSiuu6Es"
   },
   "source": [
    "Budowa końcowego modelu na całych danych treningowych i testowanie na danych testowych"
   ]
  },
  {
   "cell_type": "code",
   "execution_count": 46,
   "metadata": {
    "colab": {
     "base_uri": "https://localhost:8080/"
    },
    "id": "9yB6zP7EdXxL",
    "outputId": "9d21daa4-a82b-4962-ea3d-650bd9e4d8ee"
   },
   "outputs": [
    {
     "name": "stdout",
     "output_type": "stream",
     "text": [
      "wynik na danych testowych\n",
      "              precision    recall  f1-score   support\n",
      "\n",
      "       B-LOC      0.798     0.776     0.787      1084\n",
      "       I-LOC      0.655     0.637     0.646       325\n",
      "      B-MISC      0.686     0.534     0.600       339\n",
      "      I-MISC      0.684     0.582     0.629       557\n",
      "       B-ORG      0.818     0.826     0.822      1400\n",
      "       I-ORG      0.855     0.786     0.819      1104\n",
      "       B-PER      0.839     0.888     0.863       735\n",
      "       I-PER      0.892     0.953     0.921       634\n",
      "\n",
      "   micro avg      0.807     0.783     0.795      6178\n",
      "   macro avg      0.778     0.748     0.761      6178\n",
      "weighted avg      0.803     0.783     0.792      6178\n",
      "\n"
     ]
    }
   ],
   "source": [
    "crf.fit(X_train, y_train)\n",
    "y_pred = crf.predict(X_test)\n",
    "print(\"wynik na danych testowych\")\n",
    "print(metrics.flat_classification_report(y_test, y_pred, labels=sorted_labels, digits=3))"
   ]
  },
  {
   "cell_type": "markdown",
   "metadata": {
    "id": "eV5Ip0ezeOHp"
   },
   "source": [
    "WYNIKI OPCJI 2\n"
   ]
  },
  {
   "cell_type": "code",
   "execution_count": 55,
   "metadata": {
    "colab": {
     "base_uri": "https://localhost:8080/"
    },
    "id": "AZe2fP2zeNTb",
    "outputId": "72831c65-7a03-4051-d901-12c0ae337f2b"
   },
   "outputs": [
    {
     "name": "stdout",
     "output_type": "stream",
     "text": [
      "KFold(n_splits=3, random_state=None, shuffle=False)\n",
      "TRAIN: [2 3 4 5] TEST: [0 1]\n",
      "TRAIN: [0 1 4 5] TEST: [2 3]\n",
      "TRAIN: [0 1 2 3] TEST: [4 5]\n"
     ]
    }
   ],
   "source": [
    "#krosswalidacja\n",
    "from sklearn.model_selection import KFold\n",
    "import numpy\n",
    "\n",
    "A = numpy.array([[1, 2], [3, 4], [1, 2], [3, 4], [5,6],[7,8]])\n",
    "b = numpy.array([1, 2, 3, 4,5,6])\n",
    "kf = KFold(n_splits=3)\n",
    "kf.get_n_splits(A)\n",
    "print(kf)\n",
    "#KFold(n_splits=2, random_state=None, shuffle=False)\n",
    "for train_index, test_index in kf.split(A):\n",
    "     print(\"TRAIN:\", train_index, \"TEST:\", test_index)\n",
    "     b_train, b_test = b[train_index], b[test_index]\n",
    "\n"
   ]
  },
  {
   "cell_type": "code",
   "execution_count": 56,
   "metadata": {
    "colab": {
     "base_uri": "https://localhost:8080/"
    },
    "id": "KrFNtdQ1eTyx",
    "outputId": "45ca8d56-a648-4e5a-eede-bbc91d37e050"
   },
   "outputs": [
    {
     "name": "stdout",
     "output_type": "stream",
     "text": [
      "fold\n",
      "              precision    recall  f1-score   support\n",
      "\n",
      "       B-LOC      0.776     0.812     0.793      1539\n",
      "       I-LOC      0.751     0.618     0.678       497\n",
      "      B-MISC      0.626     0.449     0.523       719\n",
      "      I-MISC      0.546     0.485     0.513       889\n",
      "       B-ORG      0.815     0.803     0.809      2235\n",
      "       I-ORG      0.769     0.810     0.789      1543\n",
      "       B-PER      0.861     0.843     0.852      1230\n",
      "       I-PER      0.899     0.940     0.919      1062\n",
      "\n",
      "   micro avg      0.781     0.761     0.771      9714\n",
      "   macro avg      0.755     0.720     0.735      9714\n",
      "weighted avg      0.775     0.761     0.766      9714\n",
      "\n",
      "fold\n",
      "              precision    recall  f1-score   support\n",
      "\n",
      "       B-LOC      0.772     0.745     0.758      1732\n",
      "       I-LOC      0.698     0.661     0.679       752\n",
      "      B-MISC      0.690     0.507     0.584       746\n",
      "      I-MISC      0.573     0.452     0.505      1180\n",
      "       B-ORG      0.794     0.757     0.775      2581\n",
      "       I-ORG      0.735     0.778     0.756      1879\n",
      "       B-PER      0.848     0.854     0.851      1427\n",
      "       I-PER      0.882     0.925     0.903      1275\n",
      "\n",
      "   micro avg      0.768     0.735     0.751     11572\n",
      "   macro avg      0.749     0.710     0.726     11572\n",
      "weighted avg      0.762     0.735     0.747     11572\n",
      "\n",
      "fold\n",
      "              precision    recall  f1-score   support\n",
      "\n",
      "       B-LOC      0.691     0.741     0.715      1642\n",
      "       I-LOC      0.693     0.590     0.638       642\n",
      "      B-MISC      0.580     0.421     0.488       708\n",
      "      I-MISC      0.462     0.467     0.464      1143\n",
      "       B-ORG      0.826     0.760     0.792      2574\n",
      "       I-ORG      0.679     0.780     0.726      1570\n",
      "       B-PER      0.862     0.840     0.851      1664\n",
      "       I-PER      0.895     0.916     0.905      1566\n",
      "\n",
      "   micro avg      0.742     0.734     0.738     11509\n",
      "   macro avg      0.711     0.690     0.697     11509\n",
      "weighted avg      0.742     0.734     0.736     11509\n",
      "\n",
      "all results\n",
      "              precision    recall  f1-score   support\n",
      "\n",
      "       B-LOC      0.745     0.765     0.754      4913\n",
      "       I-LOC      0.709     0.626     0.665      1891\n",
      "      B-MISC      0.633     0.460     0.533      2173\n",
      "      I-MISC      0.521     0.466     0.492      3212\n",
      "       B-ORG      0.811     0.772     0.791      7390\n",
      "       I-ORG      0.727     0.788     0.756      4992\n",
      "       B-PER      0.857     0.845     0.851      4321\n",
      "       I-PER      0.892     0.925     0.908      3903\n",
      "\n",
      "   micro avg      0.762     0.742     0.752     32795\n",
      "   macro avg      0.737     0.706     0.719     32795\n",
      "weighted avg      0.758     0.742     0.748     32795\n",
      "\n"
     ]
    }
   ],
   "source": [
    "kf = KFold(n_splits=3)\n",
    "kf.get_n_splits(X_train)\n",
    "y_pred_all=[]\n",
    "for train_index, test_index in kf.split(X_train):\n",
    "    X_tr, X_tst = numpy.array(X_train)[train_index], numpy.array(X_train)[test_index]\n",
    "    y_tr, y_tst = numpy.array(y_train)[train_index], numpy.array(y_train)[test_index]\n",
    "    #print(train_index[1])\n",
    "    #print(X_train[test_index[0]])\n",
    "    crf.fit(X_tr, y_tr)\n",
    "    y_pred = crf.predict(X_tst)\n",
    "    print(\"fold\")\n",
    "    print(metrics.flat_classification_report(y_tst, y_pred, labels=sorted_labels, digits=3))\n",
    "    y_pred_all.extend(y_pred)\n",
    "print(\"all results\")\n",
    "print(metrics.flat_classification_report(y_train, y_pred_all, labels=sorted_labels, digits=3))\n",
    "  \n",
    "  "
   ]
  },
  {
   "cell_type": "code",
   "execution_count": 57,
   "metadata": {
    "colab": {
     "base_uri": "https://localhost:8080/"
    },
    "id": "Xd2vzOTleXLA",
    "outputId": "e63b7359-f2b2-4c7d-95da-d6c0daf9aa88"
   },
   "outputs": [
    {
     "name": "stdout",
     "output_type": "stream",
     "text": [
      "wynik na danych testowych\n",
      "              precision    recall  f1-score   support\n",
      "\n",
      "       B-LOC      0.808     0.786     0.797      1084\n",
      "       I-LOC      0.752     0.680     0.714       325\n",
      "      B-MISC      0.720     0.560     0.630       339\n",
      "      I-MISC      0.691     0.587     0.635       557\n",
      "       B-ORG      0.828     0.850     0.839      1400\n",
      "       I-ORG      0.858     0.812     0.835      1104\n",
      "       B-PER      0.853     0.887     0.870       735\n",
      "       I-PER      0.902     0.948     0.925       634\n",
      "\n",
      "   micro avg      0.822     0.798     0.810      6178\n",
      "   macro avg      0.802     0.764     0.781      6178\n",
      "weighted avg      0.818     0.798     0.807      6178\n",
      "\n"
     ]
    }
   ],
   "source": [
    "crf.fit(X_train, y_train)\n",
    "y_pred = crf.predict(X_test)\n",
    "print(\"wynik na danych testowych\")\n",
    "print(metrics.flat_classification_report(y_test, y_pred, labels=sorted_labels, digits=3))"
   ]
  }
 ],
 "metadata": {
  "colab": {
   "collapsed_sections": [],
   "name": "INL-lab4-2-lab5-crf.ipynb",
   "provenance": []
  },
  "kernelspec": {
   "display_name": "Python 3",
   "language": "python",
   "name": "python3"
  },
  "language_info": {
   "codemirror_mode": {
    "name": "ipython",
    "version": 3
   },
   "file_extension": ".py",
   "mimetype": "text/x-python",
   "name": "python",
   "nbconvert_exporter": "python",
   "pygments_lexer": "ipython3",
   "version": "3.8.5"
  }
 },
 "nbformat": 4,
 "nbformat_minor": 1
}
